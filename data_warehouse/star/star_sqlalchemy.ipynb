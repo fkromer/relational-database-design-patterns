{
 "cells": [
  {
   "cell_type": "markdown",
   "source": [
    "Let's infer the database interface from the database."
   ],
   "metadata": {}
  },
  {
   "cell_type": "code",
   "execution_count": 1,
   "source": [
    "from sqlalchemy.ext.automap import automap_base\n",
    "from sqlalchemy.orm import Session\n",
    "from sqlalchemy import create_engine\n",
    "\n",
    "# https://docs.sqlalchemy.org/en/14/orm/extensions/automap.html#basic-use\n",
    "\n",
    "Base = automap_base()\n",
    "engine = create_engine(\"sqlite:///star.sqlite\")\n",
    "Base.prepare(autoload_with=engine)\n",
    "\n",
    "SalesFact = Base.classes.sales_fact\n",
    "CustomerDimension = Base.classes.customer_dimension\n",
    "DateDimension = Base.classes.date_dimension\n",
    "ProductDimension = Base.classes.product_dimension\n",
    "StoreDimension = Base.classes.store_dimension\n",
    "\n",
    "session = Session(engine)"
   ],
   "outputs": [],
   "metadata": {}
  },
  {
   "cell_type": "markdown",
   "source": [
    "Query all sales."
   ],
   "metadata": {}
  },
  {
   "cell_type": "code",
   "execution_count": 2,
   "source": [
    "sfs = session.query(SalesFact).join(CustomerDimension).join(DateDimension).join(ProductDimension).join(StoreDimension).all()"
   ],
   "outputs": [],
   "metadata": {}
  },
  {
   "cell_type": "markdown",
   "source": [
    "Let's explore the first sale fact:"
   ],
   "metadata": {}
  },
  {
   "cell_type": "code",
   "execution_count": 3,
   "source": [
    "from pprint import pprint as print\n",
    "\n",
    "print(f\"sale_fact.id: {sfs[0].id}\")\n",
    "\n",
    "customer_dimension_dict = {k: v for k, v in vars(sfs[0].customer_dimension).items() if not k.startswith('_')}\n",
    "print(f\"sale_fact.customer_dimension: {customer_dimension_dict}\")\n",
    "\n",
    "date_dimension_dict = {k: v for k, v in vars(sfs[0].customer_dimension).items() if not k.startswith('_')}\n",
    "print(f\"sale_fact.date_dimension: {date_dimension_dict}\")\n",
    "\n",
    "store_dimension_dict = {k: v for k, v in vars(sfs[0].store_dimension).items() if not k.startswith('_')}\n",
    "print(f\"sale_fact.store_dimension: {store_dimension_dict}\")\n",
    "\n",
    "print(f\"sale_fact.sales_units: {sfs[0].sales_units}\")"
   ],
   "outputs": [
    {
     "output_type": "stream",
     "name": "stdout",
     "text": [
      "'sale_fact.id: 1'\n",
      "(\"sale_fact.customer_dimension: {'house_number': 1, 'name': 'Max Musterman', \"\n",
      " \"'id': 1, 'zip_code': 12345, 'street': 'Musterstraße', 'city': 'Musterstadt'}\")\n",
      "(\"sale_fact.date_dimension: {'house_number': 1, 'name': 'Max Musterman', 'id': \"\n",
      " \"1, 'zip_code': 12345, 'street': 'Musterstraße', 'city': 'Musterstadt'}\")\n",
      "(\"sale_fact.store_dimension: {'zip_code': 12345, 'city': 'Musterstadt', \"\n",
      " \"'state': 'Saarland', 'id': 2}\")\n",
      "'sale_fact.sales_units: 1'\n"
     ]
    }
   ],
   "metadata": {}
  }
 ],
 "metadata": {
  "orig_nbformat": 4,
  "language_info": {
   "name": "python",
   "version": "3.9.10",
   "mimetype": "text/x-python",
   "codemirror_mode": {
    "name": "ipython",
    "version": 3
   },
   "pygments_lexer": "ipython3",
   "nbconvert_exporter": "python",
   "file_extension": ".py"
  },
  "kernelspec": {
   "name": "python3",
   "display_name": "Python 3.9.10 64-bit ('venv')"
  },
  "interpreter": {
   "hash": "9fdb1387143310848a0e426a704917dc44bcf1ec83813927ccd7321ad93fce99"
  }
 },
 "nbformat": 4,
 "nbformat_minor": 2
}